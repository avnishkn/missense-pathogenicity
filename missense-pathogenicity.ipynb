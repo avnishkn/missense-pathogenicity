{
 "cells": [
  {
   "cell_type": "markdown",
   "id": "52c3d6de",
   "metadata": {},
   "source": [
    "#### ClinVar Missense Pathogenicity Analysis"
   ]
  },
  {
   "cell_type": "code",
   "execution_count": 14,
   "id": "f449db7a",
   "metadata": {},
   "outputs": [],
   "source": [
    "import pandas as pd\n",
    "import numpy as np\n",
    "import requests\n",
    "import gzip\n",
    "import shutil\n",
    "from pathlib import Path\n",
    "import re\n",
    "import os\n",
    "from tqdm import tqdm\n",
    "import matplotlib.pyplot as plt\n",
    "import seaborn as sns"
   ]
  },
  {
   "cell_type": "markdown",
   "id": "33b22a46",
   "metadata": {},
   "source": [
    "#### Fetch and Filter Data"
   ]
  },
  {
   "cell_type": "code",
   "execution_count": 15,
   "id": "46e2bdac",
   "metadata": {},
   "outputs": [],
   "source": [
    "# Data source configuration\n",
    "CLINVAR_URL = \"https://ftp.ncbi.nlm.nih.gov/pub/clinvar/tab_delimited/variant_summary.txt.gz\"\n",
    "CLINVAR_GZ = \"variant_summary.txt.gz\"\n",
    "CLINVAR_TXT = \"variant_summary.txt\"\n",
    "OUTPUT_CSV = \"clinvar_missense_variants.csv\"\n",
    "\n",
    "# Filtering criteria\n",
    "VALID_SIGNIFICANCE = {\"Pathogenic\", \"Likely pathogenic\", \"Benign\", \"Likely benign\"}\n",
    "GENOME_BUILD = \"GRCh38\"  # Compatible with AlphaFold, Ensembl, UniProt\n",
    "CHUNK_SIZE = 100_000\n",
    "\n",
    "# Precompiled regex patterns for efficiency\n",
    "HAS_P_PROTEIN_CHANGE = re.compile(r\"\\(p\\.\", re.ASCII)\n",
    "EXTRACT_PROTEIN_CHANGE = re.compile(r\"\\(p\\.(.*?)\\)\", re.ASCII)\n",
    "IS_MISSENSE = re.compile(r\"^[A-Z][a-z]{2}\\d+[A-Z][a-z]{2}$\", re.ASCII)\n",
    "\n",
    "# Columns to read (memory optimization)\n",
    "READ_COLS = [\"Assembly\", \"Type\", \"ClinicalSignificance\", \"Name\", \"GeneSymbol\", \"HGNC_ID\"]"
   ]
  },
  {
   "cell_type": "code",
   "execution_count": 16,
   "id": "4e221edc",
   "metadata": {},
   "outputs": [],
   "source": [
    "def download_and_extract_clinvar() -> None:\n",
    "    if not Path(CLINVAR_GZ).exists():\n",
    "        with requests.get(CLINVAR_URL, stream=True) as r:\n",
    "            r.raise_for_status()\n",
    "            with open(CLINVAR_GZ, \"wb\") as f_out:\n",
    "                shutil.copyfileobj(r.raw, f_out)\n",
    "\n",
    "    if not Path(CLINVAR_TXT).exists():\n",
    "        with gzip.open(CLINVAR_GZ, \"rb\") as f_in, open(CLINVAR_TXT, \"wb\") as f_out:\n",
    "            shutil.copyfileobj(f_in, f_out)"
   ]
  },
  {
   "cell_type": "code",
   "execution_count": 17,
   "id": "d034c421",
   "metadata": {},
   "outputs": [],
   "source": [
    "def filter_chunk(chunk: pd.DataFrame) -> pd.DataFrame:\n",
    "    \"\"\"\n",
    "    Filter ClinVar chunk for protein-coding missense SNVs with clear clinical significance, using GRCh38 coordinates.\n",
    "    \"\"\"\n",
    "    # Initial filters for relevant vatiant type\n",
    "\n",
    "    chunk = chunk[\n",
    "        (chunk[\"Assembly\"] == GENOME_BUILD)\n",
    "        & (chunk[\"Type\"] == \"single nucleotide variant\")\n",
    "        & (chunk[\"ClinicalSignificance\"].isin(VALID_SIGNIFICANCE))\n",
    "        & (chunk[\"Name\"].str.contains(HAS_P_PROTEIN_CHANGE, na=False))\n",
    "    ].copy()\n",
    "\n",
    "    # Extract protein change string\n",
    "    \n",
    "    chunk[\"protein_change\"] = chunk[\"Name\"].str.extract(EXTRACT_PROTEIN_CHANGE)\n",
    "\n",
    "    # Keep only missense variants\n",
    "    # Match: 3-letter AA, position, and new AA\n",
    "\n",
    "    missense_mask = chunk[\"protein_change\"].str.match(IS_MISSENSE, na=False)\n",
    "    chunk = chunk[missense_mask].copy()\n",
    "\n",
    "    return chunk[\n",
    "        [\"GeneSymbol\", \"HGNC_ID\", \"ClinicalSignificance\", \"Name\", \"protein_change\"]\n",
    "    ].rename(\n",
    "        columns={\"GeneSymbol\": \"gene\"}\n",
    "    )\n"
   ]
  },
  {
   "cell_type": "code",
   "execution_count": 18,
   "id": "8b8ff0ed",
   "metadata": {},
   "outputs": [],
   "source": [
    "def filter_missense_variants_streaming() -> None:\n",
    "    reader = pd.read_csv(\n",
    "        CLINVAR_TXT,\n",
    "        sep=\"\\t\",\n",
    "        chunksize=CHUNK_SIZE,\n",
    "        low_memory=False,\n",
    "        usecols=READ_COLS,\n",
    "        dtype={\"Assembly\": \"category\", \"Type\": \"category\", \"ClinicalSignificance\": \"category\"},\n",
    "    )\n",
    "\n",
    "    is_first = True\n",
    "    total = 0\n",
    "\n",
    "    for chunk in reader:\n",
    "        filtered = filter_chunk(chunk)\n",
    "        if not filtered.empty:\n",
    "            filtered.to_csv(OUTPUT_CSV, mode=\"w\" if is_first else \"a\", header=is_first, index=False)\n",
    "            is_first = False\n",
    "            total += len(filtered)\n",
    "    \n",
    "    print(f\"Saved {total} missense variants to {OUTPUT_CSV}.\")"
   ]
  },
  {
   "cell_type": "code",
   "execution_count": 19,
   "id": "2a5f1fff",
   "metadata": {},
   "outputs": [
    {
     "name": "stdout",
     "output_type": "stream",
     "text": [
      "Saved 239112 missense variants to clinvar_missense_variants.csv.\n"
     ]
    }
   ],
   "source": [
    "# Main execution\n",
    "\n",
    "if __name__ == \"__main__\":\n",
    "    download_and_extract_clinvar()\n",
    "    filter_missense_variants_streaming()"
   ]
  },
  {
   "cell_type": "code",
   "execution_count": null,
   "id": "da6b8ac6",
   "metadata": {},
   "outputs": [],
   "source": []
  }
 ],
 "metadata": {
  "kernelspec": {
   "display_name": "Python 3",
   "language": "python",
   "name": "python3"
  },
  "language_info": {
   "codemirror_mode": {
    "name": "ipython",
    "version": 3
   },
   "file_extension": ".py",
   "mimetype": "text/x-python",
   "name": "python",
   "nbconvert_exporter": "python",
   "pygments_lexer": "ipython3",
   "version": "3.9.6"
  }
 },
 "nbformat": 4,
 "nbformat_minor": 5
}
